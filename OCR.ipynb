{
 "cells": [
  {
   "cell_type": "code",
   "execution_count": 1,
   "id": "76661430",
   "metadata": {},
   "outputs": [
    {
     "name": "stdout",
     "output_type": "stream",
     "text": [
      "Collecting torch\n",
      "  Downloading torch-1.9.0-cp39-cp39-win_amd64.whl (222.0 MB)\n",
      "Collecting torchvision\n",
      "  Downloading torchvision-0.10.0-cp39-cp39-win_amd64.whl (920 kB)\n",
      "Collecting torchaudio\n",
      "  Downloading torchaudio-0.9.0-cp39-cp39-win_amd64.whl (215 kB)\n",
      "Collecting typing-extensions\n",
      "  Downloading typing_extensions-3.10.0.0-py3-none-any.whl (26 kB)\n",
      "Collecting pillow>=5.3.0\n",
      "  Downloading Pillow-8.3.1-1-cp39-cp39-win_amd64.whl (3.2 MB)\n",
      "Requirement already satisfied: numpy in c:\\users\\personal\\appdata\\local\\programs\\python\\python39\\lib\\site-packages (from torchvision) (1.21.0)\n",
      "Installing collected packages: typing-extensions, torch, pillow, torchvision, torchaudio\n",
      "Successfully installed pillow-8.3.1 torch-1.9.0 torchaudio-0.9.0 torchvision-0.10.0 typing-extensions-3.10.0.0\n",
      "Collecting easyocr\n",
      "  Downloading easyocr-1.3.2-py3-none-any.whl (63.2 MB)\n",
      "Collecting python-bidi\n",
      "  Downloading python_bidi-0.4.2-py2.py3-none-any.whl (30 kB)\n",
      "Requirement already satisfied: opencv-python in c:\\users\\personal\\appdata\\local\\programs\\python\\python39\\lib\\site-packages (from easyocr) (4.5.3.56)\n",
      "Collecting scikit-image\n",
      "  Downloading scikit_image-0.18.2-cp39-cp39-win_amd64.whl (12.2 MB)\n",
      "Collecting scipy\n",
      "  Downloading scipy-1.7.0-cp39-cp39-win_amd64.whl (33.8 MB)\n",
      "Requirement already satisfied: numpy in c:\\users\\personal\\appdata\\local\\programs\\python\\python39\\lib\\site-packages (from easyocr) (1.21.0)\n",
      "Requirement already satisfied: Pillow in c:\\users\\personal\\appdata\\local\\programs\\python\\python39\\lib\\site-packages (from easyocr) (8.3.1)\n",
      "Requirement already satisfied: torchvision>=0.5 in c:\\users\\personal\\appdata\\local\\programs\\python\\python39\\lib\\site-packages (from easyocr) (0.10.0)\n",
      "Requirement already satisfied: torch in c:\\users\\personal\\appdata\\local\\programs\\python\\python39\\lib\\site-packages (from easyocr) (1.9.0)\n",
      "Collecting PyYAML\n",
      "  Downloading PyYAML-5.4.1-cp39-cp39-win_amd64.whl (213 kB)\n",
      "Requirement already satisfied: typing-extensions in c:\\users\\personal\\appdata\\local\\programs\\python\\python39\\lib\\site-packages (from torch->easyocr) (3.10.0.0)\n",
      "Requirement already satisfied: six in c:\\users\\personal\\appdata\\local\\programs\\python\\python39\\lib\\site-packages (from python-bidi->easyocr) (1.16.0)\n",
      "Collecting imageio>=2.3.0\n",
      "  Downloading imageio-2.9.0-py3-none-any.whl (3.3 MB)\n",
      "Collecting networkx>=2.0\n",
      "  Downloading networkx-2.5.1-py3-none-any.whl (1.6 MB)\n",
      "Collecting PyWavelets>=1.1.1\n",
      "  Downloading PyWavelets-1.1.1-cp39-cp39-win_amd64.whl (4.2 MB)\n",
      "Collecting matplotlib!=3.0.0,>=2.0.0\n",
      "  Downloading matplotlib-3.4.2-cp39-cp39-win_amd64.whl (7.1 MB)\n",
      "Collecting tifffile>=2019.7.26\n",
      "  Downloading tifffile-2021.7.2-py3-none-any.whl (169 kB)\n",
      "Collecting kiwisolver>=1.0.1\n",
      "  Downloading kiwisolver-1.3.1-cp39-cp39-win_amd64.whl (51 kB)\n",
      "Requirement already satisfied: pyparsing>=2.2.1 in c:\\users\\personal\\appdata\\local\\programs\\python\\python39\\lib\\site-packages (from matplotlib!=3.0.0,>=2.0.0->scikit-image->easyocr) (2.4.7)\n",
      "Collecting cycler>=0.10\n",
      "  Downloading cycler-0.10.0-py2.py3-none-any.whl (6.5 kB)\n",
      "Requirement already satisfied: python-dateutil>=2.7 in c:\\users\\personal\\appdata\\local\\programs\\python\\python39\\lib\\site-packages (from matplotlib!=3.0.0,>=2.0.0->scikit-image->easyocr) (2.8.1)\n",
      "Collecting decorator<5,>=4.3\n",
      "  Downloading decorator-4.4.2-py2.py3-none-any.whl (9.2 kB)\n",
      "Installing collected packages: kiwisolver, decorator, cycler, tifffile, scipy, PyWavelets, networkx, matplotlib, imageio, scikit-image, PyYAML, python-bidi, easyocr\n",
      "  Attempting uninstall: decorator\n",
      "    Found existing installation: decorator 5.0.9\n",
      "    Uninstalling decorator-5.0.9:\n",
      "      Successfully uninstalled decorator-5.0.9\n",
      "Successfully installed PyWavelets-1.1.1 PyYAML-5.4.1 cycler-0.10.0 decorator-4.4.2 easyocr-1.3.2 imageio-2.9.0 kiwisolver-1.3.1 matplotlib-3.4.2 networkx-2.5.1 python-bidi-0.4.2 scikit-image-0.18.2 scipy-1.7.0 tifffile-2021.7.2\n"
     ]
    }
   ],
   "source": [
    "#Install Pytorch\n",
    "get_ipython().system('pip3 install torch torchvision torchaudio')\n",
    "#Install EasyOCR\n",
    "get_ipython().system('pip install easyocr')"
   ]
  },
  {
   "cell_type": "code",
   "execution_count": null,
   "id": "c9d26970",
   "metadata": {},
   "outputs": [],
   "source": [
    "\n",
    "import easyocr\n",
    "import cv2\n",
    "from matplotlib import pyplot as plt\n",
    "import numpy as np"
   ]
  },
  {
   "cell_type": "code",
   "execution_count": null,
   "id": "e9860ab3",
   "metadata": {},
   "outputs": [],
   "source": [
    "#reading 1st image\n",
    "IMAGE_PATH = 'canva.jpg'"
   ]
  },
  {
   "cell_type": "code",
   "execution_count": null,
   "id": "ebfd2c21",
   "metadata": {},
   "outputs": [],
   "source": [
    "reader = easyocr.Reader(['en'] , gpu=False)\n",
    "result = reader.readtext(IMAGE_PATH)\n",
    "result"
   ]
  },
  {
   "cell_type": "code",
   "execution_count": null,
   "id": "50a7fad1",
   "metadata": {},
   "outputs": [],
   "source": [
    "#displaying results for 1st\n",
    "top_left = tuple(result[0][0][0])\n",
    "bottom_right = tuple(result[0][0][2])\n",
    "text = result[0][1]\n",
    "font = cv2.FONT_HERSHEY_SIMPLEX"
   ]
  },
  {
   "cell_type": "code",
   "execution_count": null,
   "id": "53581978",
   "metadata": {},
   "outputs": [],
   "source": [
    "img = cv2.imread(IMAGE_PATH)\n",
    "spacer = 100\n",
    "for detection in result: \n",
    "    top_left = tuple(detection[0][0])\n",
    "    bottom_right = tuple(detection[0][2])\n",
    "    text = detection[1]\n",
    "    img = cv2.rectangle(img,top_left,bottom_right,(0,255,0),3)\n",
    "    img = cv2.putText(img,text,(20,spacer), font, 0.5,(0,255,0),2,cv2.LINE_AA)\n",
    "    spacer+=15\n",
    "    \n",
    "plt.imshow(img)\n",
    "plt.show()"
   ]
  },
  {
   "cell_type": "code",
   "execution_count": null,
   "id": "1a01aa2f",
   "metadata": {},
   "outputs": [],
   "source": [
    "#reading 2nd image\n",
    "IMAGE_PATH = 'sign.png'"
   ]
  },
  {
   "cell_type": "code",
   "execution_count": null,
   "id": "3b123460",
   "metadata": {},
   "outputs": [],
   "source": [
    "reader = easyocr.Reader(['en'] , gpu=False)\n",
    "result = reader.readtext(IMAGE_PATH)\n",
    "result"
   ]
  },
  {
   "cell_type": "code",
   "execution_count": null,
   "id": "4e7438f4",
   "metadata": {},
   "outputs": [],
   "source": [
    "# Drawing Results for 2nd image\n",
    "top_left = tuple(result[0][0][0])\n",
    "bottom_right = tuple(result[0][0][2])\n",
    "text = result[0][1]\n",
    "font = cv2.FONT_HERSHEY_SIMPLEX"
   ]
  },
  {
   "cell_type": "code",
   "execution_count": null,
   "id": "ad0f5999",
   "metadata": {},
   "outputs": [],
   "source": [
    "img = cv2.imread(IMAGE_PATH)\n",
    "spacer = 100\n",
    "for detection in result: \n",
    "    top_left = tuple(detection[0][0])\n",
    "    bottom_right = tuple(detection[0][2])\n",
    "    text = detection[1]\n",
    "    img = cv2.rectangle(img,top_left,bottom_right,(0,255,0),3)\n",
    "    img = cv2.putText(img,text,(20,spacer), font, 0.5,(0,255,0),2,cv2.LINE_AA)\n",
    "    spacer+=15\n",
    "    \n",
    "plt.imshow(img)\n",
    "plt.show()\n"
   ]
  }
 ],
 "metadata": {
  "kernelspec": {
   "display_name": "Python 3 (ipykernel)",
   "language": "python",
   "name": "python3"
  },
  "language_info": {
   "codemirror_mode": {
    "name": "ipython",
    "version": 3
   },
   "file_extension": ".py",
   "mimetype": "text/x-python",
   "name": "python",
   "nbconvert_exporter": "python",
   "pygments_lexer": "ipython3",
   "version": "3.9.6"
  }
 },
 "nbformat": 4,
 "nbformat_minor": 5
}
